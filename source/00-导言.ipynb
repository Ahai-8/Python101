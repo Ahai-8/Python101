{
 "cells": [
  {
   "cell_type": "markdown",
   "metadata": {},
   "source": [
    "# 第0讲 导言"
   ]
  },
  {
   "cell_type": "markdown",
   "metadata": {},
   "source": [
    "## 1. 鸡蛋篮子"
   ]
  },
  {
   "cell_type": "markdown",
   "metadata": {},
   "source": [
    "程序员：帮我看看篮子里有没有鸡蛋。\n",
    "\n",
    "计算机："
   ]
  },
  {
   "cell_type": "code",
   "execution_count": 1,
   "metadata": {},
   "outputs": [
    {
     "name": "stdout",
     "output_type": "stream",
     "text": [
      "不是鸡蛋\n",
      "不是鸡蛋\n",
      "不是鸡蛋\n",
      "有鸡蛋！\n"
     ]
    }
   ],
   "source": [
    "篮子 = ['白菜', '牛肉', '面条', '鸡蛋','醋', '酱油']\n",
    "\n",
    "for 物品 in 篮子:\n",
    "    if (物品=='鸡蛋'):\n",
    "        print('有鸡蛋！')\n",
    "        break\n",
    "    else:\n",
    "        print('不是鸡蛋')"
   ]
  },
  {
   "cell_type": "markdown",
   "metadata": {},
   "source": [
    "编程思维：抽象与分解。\n",
    "\n",
    "愚蠢但勤劳的计算机"
   ]
  },
  {
   "cell_type": "markdown",
   "metadata": {},
   "source": [
    "## Python 是什么"
   ]
  },
  {
   "cell_type": "markdown",
   "metadata": {},
   "source": [
    ">Python 由荷兰数学和计算机科学研究学会的吉多·范罗苏姆于1990年代初设计，作为一门叫做ABC语言的替代品。Python 提供了高效的高级数据结构，还能简单有效地面向对象编程。Python 语法和动态类型，以及解释型语言的本质，使它成为多数平台上写脚本和快速开发应用的编程语言，随着版本的不断更新和语言新功能的添加，逐渐被用于独立的、大型项目的开发。\n",
    "\n",
    "Python 是一门既容易上手又强大的编程语言。"
   ]
  },
  {
   "cell_type": "markdown",
   "metadata": {},
   "source": [
    "“地位”：\n",
    "- TOBIE 编程语言排行榜连续三年排名第一\n",
    "- 程序员最常用的第二语言\n",
    "- 科研人员最常用的语言\n",
    "- 非程序员使用人数最多的语言"
   ]
  },
  {
   "cell_type": "markdown",
   "metadata": {},
   "source": [
    "## Python 能做什么"
   ]
  },
  {
   "cell_type": "markdown",
   "metadata": {},
   "source": [
    "- 自动化脚本\n",
    "- 网络爬虫\n",
    "- Web 后端开发\n",
    "- 游戏编程\n",
    "- 科学计算\n",
    "- 数据分析\n",
    "- 人工智能\n",
    "- 运维：系统操作和维护\n",
    "- 金融：量化交易，金融分析\n",
    "- GUI（图形用户界面）\n",
    "- and more..."
   ]
  },
  {
   "cell_type": "markdown",
   "metadata": {},
   "source": [
    "## Python 如何学"
   ]
  },
  {
   "cell_type": "markdown",
   "metadata": {},
   "source": [
    "### 学习方式"
   ]
  },
  {
   "cell_type": "markdown",
   "metadata": {},
   "source": [
    "#### 系统 or 实践\n",
    "\n",
    "系统性学习：知识框架，不要追求面面俱到。\n",
    "\n",
    "实践：感性认识，详略得当，\n",
    "\n",
    "互相补充，循环学习。\n",
    "\n",
    "#### 课程 or 自学\n",
    "\n",
    "课程：效率，方向\n",
    "\n",
    "自学：学习能力，可持续性\n",
    "\n"
   ]
  },
  {
   "cell_type": "markdown",
   "metadata": {},
   "source": [
    "### 学习资源"
   ]
  },
  {
   "cell_type": "markdown",
   "metadata": {},
   "source": [
    "- Python 官网：https://www.python.org/\n",
    "- 官方文档：https://docs.python.org/zh-cn/3/\n",
    "- 菜鸟教程：https://www.runoob.com/python3/python3-tutorial.html\n",
    "- Github：https://github.com/\n",
    "- Stack Overflow：https://stackoverflow.com/\n",
    "\n",
    "- 搜索引擎（排名分先后）：\n",
    "  - 必应：https://bing.com/\n",
    "  - 谷歌：https://google.com/\n",
    "  - 百度：https://baidu.com/"
   ]
  },
  {
   "cell_type": "markdown",
   "metadata": {},
   "source": [
    "### 软件安装与环境搭建"
   ]
  },
  {
   "cell_type": "markdown",
   "metadata": {},
   "source": [
    "- Python 3：https://www.python.org/downloads/\n",
    "- Visual Studio Code：https://code.visualstudio.com/\n",
    "- VS Code 插件：\n",
    "  - Python\n",
    "  - Pylance\n",
    "  - Chinese(simplified)(可选)"
   ]
  },
  {
   "cell_type": "markdown",
   "metadata": {},
   "source": [
    "测试：新建文件 `hello.py`，输入以下文本，按 `F5` 运行："
   ]
  },
  {
   "cell_type": "code",
   "execution_count": 2,
   "metadata": {},
   "outputs": [
    {
     "name": "stdout",
     "output_type": "stream",
     "text": [
      "hello world!\n"
     ]
    }
   ],
   "source": [
    "print('hello world!')"
   ]
  }
 ],
 "metadata": {
  "kernelspec": {
   "display_name": "Python 3.10.4 64-bit",
   "language": "python",
   "name": "python3"
  },
  "language_info": {
   "codemirror_mode": {
    "name": "ipython",
    "version": 3
   },
   "file_extension": ".py",
   "mimetype": "text/x-python",
   "name": "python",
   "nbconvert_exporter": "python",
   "pygments_lexer": "ipython3",
   "version": "3.10.4"
  },
  "orig_nbformat": 4,
  "vscode": {
   "interpreter": {
    "hash": "26de051ba29f2982a8de78e945f0abaf191376122a1563185a90213a26c5da77"
   }
  }
 },
 "nbformat": 4,
 "nbformat_minor": 2
}
