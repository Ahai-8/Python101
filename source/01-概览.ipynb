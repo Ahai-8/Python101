{
 "cells": [
  {
   "cell_type": "markdown",
   "metadata": {},
   "source": [
    "# 1. 概览"
   ]
  },
  {
   "cell_type": "markdown",
   "metadata": {},
   "source": [
    "## 1.1 变量"
   ]
  },
  {
   "cell_type": "markdown",
   "metadata": {},
   "source": [
    "使用 `=` 为变量赋值，为变量赋值时，就等于声明了该变量。"
   ]
  },
  {
   "cell_type": "code",
   "execution_count": 28,
   "metadata": {},
   "outputs": [
    {
     "name": "stdout",
     "output_type": "stream",
     "text": [
      "1\n"
     ]
    },
    {
     "ename": "NameError",
     "evalue": "name 'no_variable' is not defined",
     "output_type": "error",
     "traceback": [
      "\u001b[1;31m---------------------------------------------------------------------------\u001b[0m",
      "\u001b[1;31mNameError\u001b[0m                                 Traceback (most recent call last)",
      "\u001b[1;32mc:\\Users\\hushi\\OneDrive\\python101\\source\\01-概览.ipynb Cell 4'\u001b[0m in \u001b[0;36m<cell line: 5>\u001b[1;34m()\u001b[0m\n\u001b[0;32m      <a href='vscode-notebook-cell:/c%3A/Users/hushi/OneDrive/python101/source/01-%E6%A6%82%E8%A7%88.ipynb#ch0000002?line=1'>2</a>\u001b[0m \u001b[39mprint\u001b[39m(variable)\n\u001b[0;32m      <a href='vscode-notebook-cell:/c%3A/Users/hushi/OneDrive/python101/source/01-%E6%A6%82%E8%A7%88.ipynb#ch0000002?line=3'>4</a>\u001b[0m \u001b[39m# 不经声明就使用变量，会发生错误\u001b[39;00m\n\u001b[1;32m----> <a href='vscode-notebook-cell:/c%3A/Users/hushi/OneDrive/python101/source/01-%E6%A6%82%E8%A7%88.ipynb#ch0000002?line=4'>5</a>\u001b[0m \u001b[39mprint\u001b[39m(no_variable)\n",
      "\u001b[1;31mNameError\u001b[0m: name 'no_variable' is not defined"
     ]
    }
   ],
   "source": [
    "variable = 1\n",
    "print(variable)\n",
    "\n",
    "# 不经声明就使用变量，会发生错误\n",
    "print(no_variable)"
   ]
  },
  {
   "cell_type": "markdown",
   "metadata": {},
   "source": [
    "向变量再次赋值，就会改变该变量的值："
   ]
  },
  {
   "cell_type": "code",
   "execution_count": 29,
   "metadata": {},
   "outputs": [
    {
     "name": "stdout",
     "output_type": "stream",
     "text": [
      "2\n"
     ]
    }
   ],
   "source": [
    "variable = 1\n",
    "variable = 2\n",
    "print(variable)"
   ]
  },
  {
   "cell_type": "markdown",
   "metadata": {},
   "source": [
    "变量的名称\n",
    "1. 由字符，下划线和数字组成，\n",
    "2. 数字不能作为开头。\n",
    "3. 不能与 Python 的关键字冲突\n",
    "\n",
    "练习：下列哪些变量命名是有效的？\n",
    "\n",
    "```\n",
    "my_var\n",
    "2days\n",
    "banana123\n",
    "变量名\n",
    "apple!\n",
    "1ucky\n",
    "print\n",
    "```"
   ]
  },
  {
   "cell_type": "markdown",
   "metadata": {},
   "source": [
    "\n",
    "虽然没有硬性要求，但是变量的名称必须易于理解，不易混淆。\n",
    "\n",
    "变量的推荐命名方式为下划线分割的英文单词，用数字辅助区分。\n",
    "\n",
    "```\n",
    "student_score_list\n",
    "day_1_todo\n",
    "```"
   ]
  },
  {
   "cell_type": "markdown",
   "metadata": {},
   "source": [
    "Python 变量的几个类型：整数，浮点数，布尔值，复数，字符串。"
   ]
  },
  {
   "cell_type": "code",
   "execution_count": null,
   "metadata": {},
   "outputs": [],
   "source": [
    "a = 1\n",
    "b = 1.0\n",
    "c = True\n",
    "d = 1 + 0j\n",
    "e = '1'\n",
    "e = \"1\"\n",
    "\n",
    "sentence = 'My mother says: \"You should drink more milk.\"'"
   ]
  },
  {
   "cell_type": "markdown",
   "metadata": {},
   "source": [
    "## 1.2 运算符\n",
    "\n",
    "- 加：`+`\n",
    "- 减：`-`\n",
    "- 乘：`*`\n",
    "- 乘方: `**`\n",
    "- 除：`/`\n",
    "- 整除：`//`\n",
    "- 取余：`%`"
   ]
  },
  {
   "cell_type": "code",
   "execution_count": 17,
   "metadata": {},
   "outputs": [
    {
     "name": "stdout",
     "output_type": "stream",
     "text": [
      "[2, 0, 6, 25, 2.5, 2, 1]\n"
     ]
    }
   ],
   "source": [
    "a = 1+1\n",
    "b = 1-1\n",
    "\n",
    "c = 2*3\n",
    "d = 5**2\n",
    "\n",
    "e = 5/2\n",
    "f = 5//2\n",
    "g = 5%2\n",
    "\n",
    "print([a,b,c,d,e,f,g])"
   ]
  },
  {
   "cell_type": "markdown",
   "metadata": {},
   "source": [
    "## 1.3 输入与输出\n",
    "\n"
   ]
  },
  {
   "cell_type": "code",
   "execution_count": 19,
   "metadata": {},
   "outputs": [
    {
     "name": "stdout",
     "output_type": "stream",
     "text": [
      "23333333333333333\n"
     ]
    }
   ],
   "source": [
    "a=input()\n",
    "\n",
    "print(a)"
   ]
  },
  {
   "cell_type": "markdown",
   "metadata": {},
   "source": [
    "input() 函数还可以接受一个字符串参数来作为提示内容："
   ]
  },
  {
   "cell_type": "code",
   "execution_count": 20,
   "metadata": {},
   "outputs": [],
   "source": [
    "a = input('input a number: ')"
   ]
  },
  {
   "cell_type": "markdown",
   "metadata": {},
   "source": [
    "print() 函数字符串插值输出："
   ]
  },
  {
   "cell_type": "code",
   "execution_count": 23,
   "metadata": {},
   "outputs": [
    {
     "name": "stdout",
     "output_type": "stream",
     "text": [
      "1 + 1 = 2\n"
     ]
    }
   ],
   "source": [
    "a = 1+1\n",
    "print(f'1 + 1 = {a}')"
   ]
  },
  {
   "cell_type": "markdown",
   "metadata": {},
   "source": [
    "## 1.4 换行、缩进与注释"
   ]
  },
  {
   "cell_type": "markdown",
   "metadata": {},
   "source": [
    "Python 对比传统的计算机语言，其书写格式有很大的不同。先来看一段C语言代码：\n",
    "\n",
    "```c\n",
    "int a = 1;\n",
    "int b = 2;\n",
    "while (a<10)\n",
    "{\n",
    "    a=a+1;\n",
    "}\n",
    "```\n",
    "\n",
    "下面这段代码与上面是等价的：\n",
    "\n",
    "```c\n",
    "int a = 1; int b = 2; while(a<10){a = a+1;}\n",
    "```"
   ]
  },
  {
   "cell_type": "markdown",
   "metadata": {},
   "source": [
    "Python 通过换行来分割语句，通过缩进来分割代码块。"
   ]
  },
  {
   "cell_type": "code",
   "execution_count": 27,
   "metadata": {},
   "outputs": [
    {
     "ename": "SyntaxError",
     "evalue": "invalid syntax (356336084.py, line 9)",
     "output_type": "error",
     "traceback": [
      "\u001b[1;36m  Input \u001b[1;32mIn [27]\u001b[1;36m\u001b[0m\n\u001b[1;33m    a = 1 b = 2 while a<10:a = a+1\u001b[0m\n\u001b[1;37m          ^\u001b[0m\n\u001b[1;31mSyntaxError\u001b[0m\u001b[1;31m:\u001b[0m invalid syntax\n"
     ]
    }
   ],
   "source": [
    "# 正确\n",
    "a = 1\n",
    "b = 2\n",
    "\n",
    "while a<10:\n",
    "    a = a+1\n",
    "\n",
    "# 错误\n",
    "a = 1 b = 2 while a<10:a = a+1"
   ]
  },
  {
   "cell_type": "markdown",
   "metadata": {},
   "source": [
    "每行 `#` 以后的内容都是注释（除了位于字符串内部的 `#` ）"
   ]
  },
  {
   "cell_type": "code",
   "execution_count": null,
   "metadata": {},
   "outputs": [],
   "source": [
    "a = 1+1 # a is 2\n",
    "\n",
    "# b is 2\n",
    "b = 1+1\n",
    "\n",
    "c = '#banana'"
   ]
  },
  {
   "cell_type": "markdown",
   "metadata": {},
   "source": [
    "多行注释以 `\"\"\"` 或 `'''` 前后包括："
   ]
  },
  {
   "cell_type": "code",
   "execution_count": null,
   "metadata": {},
   "outputs": [],
   "source": [
    "'''\n",
    "这里都是注释\n",
    "这里都是注释\n",
    "这里都是注释\n",
    "'''\n",
    "\n",
    "\"\"\"\n",
    "这里也是注释\n",
    "这里也是注释\n",
    "这里也是注释\n",
    "\"\"\""
   ]
  },
  {
   "cell_type": "markdown",
   "metadata": {},
   "source": [
    "## 课后习题\n",
    "\n",
    "运用本节课的知识编写一段程序：要求用户输入一个价格（整数），计算出如何用最少的20元，10元，5元，1元的纸币付款。\n",
    "\n",
    "运行结果示例：\n",
    "\n",
    "```\n",
    "Please input a price: 77\n",
    "You should pay:\n",
    "20 yuan * 3\n",
    "10 yuan * 1\n",
    " 5 yuan * 1\n",
    " 1 yuan * 2\n",
    "```"
   ]
  }
 ],
 "metadata": {
  "kernelspec": {
   "display_name": "Python 3.10.4 64-bit",
   "language": "python",
   "name": "python3"
  },
  "language_info": {
   "codemirror_mode": {
    "name": "ipython",
    "version": 3
   },
   "file_extension": ".py",
   "mimetype": "text/x-python",
   "name": "python",
   "nbconvert_exporter": "python",
   "pygments_lexer": "ipython3",
   "version": "3.10.4"
  },
  "orig_nbformat": 4,
  "vscode": {
   "interpreter": {
    "hash": "26de051ba29f2982a8de78e945f0abaf191376122a1563185a90213a26c5da77"
   }
  }
 },
 "nbformat": 4,
 "nbformat_minor": 2
}
