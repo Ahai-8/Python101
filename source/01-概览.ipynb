{
 "cells": [
  {
   "cell_type": "markdown",
   "metadata": {},
   "source": [
    "# 1. 概览"
   ]
  },
  {
   "cell_type": "markdown",
   "metadata": {},
   "source": [
    "## 1.1 变量"
   ]
  },
  {
   "cell_type": "markdown",
   "metadata": {},
   "source": [
    "使用 `=` 为变量赋值，为变量赋值时，就等于声明了该变量。"
   ]
  },
  {
   "cell_type": "code",
   "execution_count": 1,
   "metadata": {},
   "outputs": [
    {
     "name": "stdout",
     "output_type": "stream",
     "text": [
      "1\n"
     ]
    },
    {
     "ename": "NameError",
     "evalue": "name 'b' is not defined",
     "output_type": "error",
     "traceback": [
      "\u001b[1;31m---------------------------------------------------------------------------\u001b[0m",
      "\u001b[1;31mNameError\u001b[0m                                 Traceback (most recent call last)",
      "\u001b[1;32mc:\\Users\\hushi\\OneDrive\\python101\\source\\01-概览.ipynb Cell 4'\u001b[0m in \u001b[0;36m<cell line: 5>\u001b[1;34m()\u001b[0m\n\u001b[0;32m      <a href='vscode-notebook-cell:/c%3A/Users/hushi/OneDrive/python101/source/01-%E6%A6%82%E8%A7%88.ipynb#ch0000003?line=1'>2</a>\u001b[0m \u001b[39mprint\u001b[39m(a)\n\u001b[0;32m      <a href='vscode-notebook-cell:/c%3A/Users/hushi/OneDrive/python101/source/01-%E6%A6%82%E8%A7%88.ipynb#ch0000003?line=3'>4</a>\u001b[0m \u001b[39m# 不经声明就使用变量，会发生错误\u001b[39;00m\n\u001b[1;32m----> <a href='vscode-notebook-cell:/c%3A/Users/hushi/OneDrive/python101/source/01-%E6%A6%82%E8%A7%88.ipynb#ch0000003?line=4'>5</a>\u001b[0m \u001b[39mprint\u001b[39m(b)\n",
      "\u001b[1;31mNameError\u001b[0m: name 'b' is not defined"
     ]
    }
   ],
   "source": [
    "a = 1\n",
    "print(a)\n",
    "\n",
    "# 不经声明就使用变量，会发生错误\n",
    "print(b)"
   ]
  },
  {
   "cell_type": "markdown",
   "metadata": {},
   "source": [
    "向变量再次赋值，就会改变该变量的值："
   ]
  },
  {
   "cell_type": "code",
   "execution_count": 2,
   "metadata": {},
   "outputs": [
    {
     "name": "stdout",
     "output_type": "stream",
     "text": [
      "2\n"
     ]
    }
   ],
   "source": [
    "a = 1\n",
    "a = 2\n",
    "print(a)"
   ]
  },
  {
   "cell_type": "markdown",
   "metadata": {},
   "source": [
    "变量的名称\n",
    "1. 由字符，下划线和数字组成，\n",
    "2. 数字不能作为开头。\n",
    "3. 不能与 Python 的关键字冲突\n",
    "\n",
    "练习：下列哪些变量命名是有效的？\n",
    "\n",
    "```\n",
    "my_var\n",
    "2days\n",
    "banana123\n",
    "变量名\n",
    "apple!\n",
    "1ucky\n",
    "print\n",
    "```"
   ]
  },
  {
   "cell_type": "markdown",
   "metadata": {},
   "source": [
    "\n",
    "虽然没有硬性要求，但是变量的名称必须易于理解，不易混淆。\n",
    "\n",
    "变量的推荐命名方式为下划线分割的英文单词，用数字辅助区分。\n",
    "\n",
    "```\n",
    "student_score_list\n",
    "todo_1\n",
    "```"
   ]
  },
  {
   "cell_type": "markdown",
   "metadata": {},
   "source": [
    "Python 变量的几个类型：整数，浮点数，布尔值，复数，字符串。"
   ]
  },
  {
   "cell_type": "code",
   "execution_count": 3,
   "metadata": {},
   "outputs": [
    {
     "name": "stdout",
     "output_type": "stream",
     "text": [
      "Mom says: \"You should drink more milk.\"\n"
     ]
    }
   ],
   "source": [
    "a = 1\n",
    "b = 1.0\n",
    "c = True\n",
    "d = 1 + 0j\n",
    "\n",
    "e = '1'\n",
    "f = \"1\"\n",
    "sentence = 'Mom says: \"You should drink more milk.\"'\n",
    "\n",
    "print(sentence)"
   ]
  },
  {
   "cell_type": "markdown",
   "metadata": {},
   "source": [
    "## 1.2 运算符\n",
    "\n",
    "- 加：`+`\n",
    "- 减：`-`\n",
    "- 乘：`*`\n",
    "- 乘方: `**`\n",
    "- 除：`/`\n",
    "- 整除：`//`\n",
    "- 取余：`%`"
   ]
  },
  {
   "cell_type": "code",
   "execution_count": 4,
   "metadata": {},
   "outputs": [
    {
     "name": "stdout",
     "output_type": "stream",
     "text": [
      "2 0 6 25 2.5 2 1\n"
     ]
    }
   ],
   "source": [
    "a = 1+1\n",
    "b = 1-1\n",
    "\n",
    "c = 2*3\n",
    "d = 5**2\n",
    "\n",
    "e = 5/2\n",
    "f = 5//2\n",
    "g = 5%2\n",
    "\n",
    "print(a,b,c,d,e,f,g)"
   ]
  },
  {
   "cell_type": "markdown",
   "metadata": {},
   "source": [
    "## 1.3 输入与输出\n",
    "\n"
   ]
  },
  {
   "cell_type": "code",
   "execution_count": 5,
   "metadata": {},
   "outputs": [
    {
     "name": "stdout",
     "output_type": "stream",
     "text": [
      "123\n"
     ]
    }
   ],
   "source": [
    "a=input()\n",
    "\n",
    "print(a)"
   ]
  },
  {
   "cell_type": "markdown",
   "metadata": {},
   "source": [
    "`input()` 函数还可以接受一个字符串参数来作为提示内容：\n",
    "\n",
    ">❗ `input()` 函数输入内容的类型一定是字符串，如果要作为其他类型变量使用，必须转换类型。"
   ]
  },
  {
   "cell_type": "code",
   "execution_count": 6,
   "metadata": {},
   "outputs": [
    {
     "name": "stdout",
     "output_type": "stream",
     "text": [
      "b1 = 124\n"
     ]
    },
    {
     "ename": "TypeError",
     "evalue": "can only concatenate str (not \"int\") to str",
     "output_type": "error",
     "traceback": [
      "\u001b[1;31m---------------------------------------------------------------------------\u001b[0m",
      "\u001b[1;31mTypeError\u001b[0m                                 Traceback (most recent call last)",
      "\u001b[1;32mc:\\Users\\hushi\\OneDrive\\python101\\source\\01-概览.ipynb Cell 16'\u001b[0m in \u001b[0;36m<cell line: 7>\u001b[1;34m()\u001b[0m\n\u001b[0;32m      <a href='vscode-notebook-cell:/c%3A/Users/hushi/OneDrive/python101/source/01-%E6%A6%82%E8%A7%88.ipynb#ch0000015?line=3'>4</a>\u001b[0m b1 \u001b[39m=\u001b[39m a_number \u001b[39m+\u001b[39m \u001b[39m1\u001b[39m\n\u001b[0;32m      <a href='vscode-notebook-cell:/c%3A/Users/hushi/OneDrive/python101/source/01-%E6%A6%82%E8%A7%88.ipynb#ch0000015?line=4'>5</a>\u001b[0m \u001b[39mprint\u001b[39m(\u001b[39m'\u001b[39m\u001b[39mb1 =\u001b[39m\u001b[39m'\u001b[39m,b1)\n\u001b[1;32m----> <a href='vscode-notebook-cell:/c%3A/Users/hushi/OneDrive/python101/source/01-%E6%A6%82%E8%A7%88.ipynb#ch0000015?line=6'>7</a>\u001b[0m b2 \u001b[39m=\u001b[39m a_string \u001b[39m+\u001b[39;49m \u001b[39m1\u001b[39;49m\n\u001b[0;32m      <a href='vscode-notebook-cell:/c%3A/Users/hushi/OneDrive/python101/source/01-%E6%A6%82%E8%A7%88.ipynb#ch0000015?line=7'>8</a>\u001b[0m \u001b[39mprint\u001b[39m(\u001b[39m'\u001b[39m\u001b[39mb2 =\u001b[39m\u001b[39m'\u001b[39m,b2)\n",
      "\u001b[1;31mTypeError\u001b[0m: can only concatenate str (not \"int\") to str"
     ]
    }
   ],
   "source": [
    "a_string = input('input a number: ')\n",
    "a_number = int(a_string)\n",
    "\n",
    "b1 = a_number + 1\n",
    "print('b1 =',b1)\n",
    "\n",
    "b2 = a_string + 1\n",
    "print('b2 =',b2)"
   ]
  },
  {
   "cell_type": "markdown",
   "metadata": {},
   "source": [
    "`print()` 函数一次输出多个值:\n"
   ]
  },
  {
   "cell_type": "code",
   "execution_count": 7,
   "metadata": {},
   "outputs": [
    {
     "name": "stdout",
     "output_type": "stream",
     "text": [
      "1 2 3\n"
     ]
    }
   ],
   "source": [
    "a,b,c=1,2,3\n",
    "print(a,b,c)"
   ]
  },
  {
   "cell_type": "markdown",
   "metadata": {},
   "source": [
    "## 1.4 换行、缩进与注释"
   ]
  },
  {
   "cell_type": "markdown",
   "metadata": {},
   "source": [
    "Python 对比传统的计算机语言，其书写格式有很大的不同。先来看一段C语言代码：\n",
    "\n",
    "```c\n",
    "int a = 1;\n",
    "int b = 2;\n",
    "while (a<10)\n",
    "{\n",
    "    a=a+1;\n",
    "}\n",
    "```\n",
    "\n",
    "下面这段代码与上面是等价的：\n",
    "\n",
    "```c\n",
    "int a = 1; int b = 2; while(a<10){a = a+1;}\n",
    "```"
   ]
  },
  {
   "cell_type": "markdown",
   "metadata": {},
   "source": [
    "Python 通过换行来分割语句，通过缩进来分割代码块。"
   ]
  },
  {
   "cell_type": "code",
   "execution_count": 6,
   "metadata": {},
   "outputs": [
    {
     "ename": "SyntaxError",
     "evalue": "invalid syntax (356336084.py, line 9)",
     "output_type": "error",
     "traceback": [
      "\u001b[1;36m  Input \u001b[1;32mIn [6]\u001b[1;36m\u001b[0m\n\u001b[1;33m    a = 1 b = 2 while a<10:a = a+1\u001b[0m\n\u001b[1;37m          ^\u001b[0m\n\u001b[1;31mSyntaxError\u001b[0m\u001b[1;31m:\u001b[0m invalid syntax\n"
     ]
    }
   ],
   "source": [
    "# 正确\n",
    "a = 1\n",
    "b = 2\n",
    "\n",
    "while a<10:\n",
    "    a = a+1\n",
    "\n",
    "# 错误\n",
    "a = 1 b = 2 while a<10:a = a+1"
   ]
  },
  {
   "cell_type": "markdown",
   "metadata": {},
   "source": [
    "每行 `#` 以后的内容都是注释（除了位于字符串内部的 `#` ）"
   ]
  },
  {
   "cell_type": "code",
   "execution_count": null,
   "metadata": {},
   "outputs": [],
   "source": [
    "a = 1+1 # a is 2\n",
    "\n",
    "# b is 2\n",
    "b = 1+1\n",
    "\n",
    "c = '#banana'"
   ]
  },
  {
   "cell_type": "markdown",
   "metadata": {},
   "source": [
    "多行注释以 \"\"\" 或 ''' 前后包括："
   ]
  },
  {
   "cell_type": "code",
   "execution_count": null,
   "metadata": {},
   "outputs": [],
   "source": [
    "'''\n",
    "这里都是注释\n",
    "这里都是注释\n",
    "这里都是注释\n",
    "'''\n",
    "\n",
    "\"\"\"\n",
    "这里也是注释\n",
    "这里也是注释\n",
    "这里也是注释\n",
    "\"\"\""
   ]
  },
  {
   "cell_type": "markdown",
   "metadata": {},
   "source": [
    "## 课后习题\n",
    "\n",
    "运用本节课的知识编写一段程序：要求用户输入一个价格（整数），计算出如何用最少的20元，10元，5元，1元纸币来付款。\n",
    "\n",
    "运行结果示例：\n",
    "\n",
    "```\n",
    "Please input a price: 77\n",
    "You should pay:\n",
    "20 yuan * 3\n",
    "10 yuan * 1\n",
    " 5 yuan * 1\n",
    " 1 yuan * 2\n",
    "```"
   ]
  }
 ],
 "metadata": {
  "kernelspec": {
   "display_name": "Python 3.10.4 64-bit",
   "language": "python",
   "name": "python3"
  },
  "language_info": {
   "codemirror_mode": {
    "name": "ipython",
    "version": 3
   },
   "file_extension": ".py",
   "mimetype": "text/x-python",
   "name": "python",
   "nbconvert_exporter": "python",
   "pygments_lexer": "ipython3",
   "version": "3.10.4"
  },
  "orig_nbformat": 4,
  "vscode": {
   "interpreter": {
    "hash": "26de051ba29f2982a8de78e945f0abaf191376122a1563185a90213a26c5da77"
   }
  }
 },
 "nbformat": 4,
 "nbformat_minor": 2
}
